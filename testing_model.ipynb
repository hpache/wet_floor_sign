{
 "cells": [
  {
   "cell_type": "markdown",
   "metadata": {},
   "source": [
    "Henry Pacheco Cachon\n",
    "\n",
    "27 September 2022\n",
    "\n",
    "This notebook is putting an unseen photo through the 2D-CNN\n",
    "\n",
    "The image is a photo of a dry floor taken with an iPhone 12. \n",
    "\n",
    "**NOTE:** Input photos must be resized to (100,100) in order to go through the neural netwrok. See augmentation.ipynb for more details!"
   ]
  },
  {
   "cell_type": "code",
   "execution_count": 1,
   "metadata": {},
   "outputs": [],
   "source": [
    "import tensorflow as tf\n",
    "import numpy as np\n",
    "from tensorflow.keras import layers, models\n",
    "import matplotlib.pyplot as plt"
   ]
  },
  {
   "cell_type": "code",
   "execution_count": 2,
   "metadata": {},
   "outputs": [],
   "source": [
    "model = tf.keras.models.load_model('./models/version1/')\n",
    "categories = ['dry', 'wet']"
   ]
  },
  {
   "cell_type": "code",
   "execution_count": 3,
   "metadata": {},
   "outputs": [
    {
     "name": "stdout",
     "output_type": "stream",
     "text": [
      "1/1 [==============================] - 0s 173ms/step\n"
     ]
    }
   ],
   "source": [
    "image_path = './dataset/test/IMG_9983.jpg'\n",
    "\n",
    "# Loading image with keras\n",
    "image = tf.keras.preprocessing.image.load_img(image_path)\n",
    "# Turning it into an array\n",
    "input_arr = tf.keras.preprocessing.image.img_to_array(image)\n",
    "# Convert single image to a batch.\n",
    "input_arr = np.array([input_arr])\n",
    "# Putting image through CNN \n",
    "predictions = model.predict(input_arr)"
   ]
  },
  {
   "cell_type": "code",
   "execution_count": 4,
   "metadata": {},
   "outputs": [
    {
     "name": "stdout",
     "output_type": "stream",
     "text": [
      "./dataset/test/IMG_9983.jpg has been classified as a dry floor, it should be a dry floor\n"
     ]
    }
   ],
   "source": [
    "# The max value in the prediction array gives us the key for the classification\n",
    "key = predictions.argmax()\n",
    "print(f'{image_path} has been classified as a {categories[key]} floor, it should be a dry floor')"
   ]
  },
  {
   "cell_type": "code",
   "execution_count": null,
   "metadata": {},
   "outputs": [],
   "source": []
  }
 ],
 "metadata": {
  "kernelspec": {
   "display_name": "Python 3.9.12 64-bit",
   "language": "python",
   "name": "python3"
  },
  "language_info": {
   "codemirror_mode": {
    "name": "ipython",
    "version": 3
   },
   "file_extension": ".py",
   "mimetype": "text/x-python",
   "name": "python",
   "nbconvert_exporter": "python",
   "pygments_lexer": "ipython3",
   "version": "3.9.12"
  },
  "orig_nbformat": 4,
  "vscode": {
   "interpreter": {
    "hash": "a665b5d41d17b532ea9890333293a1b812fa0b73c9c25c950b3cedf1bebd0438"
   }
  }
 },
 "nbformat": 4,
 "nbformat_minor": 2
}
