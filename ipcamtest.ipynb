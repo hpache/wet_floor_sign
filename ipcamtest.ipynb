{
 "cells": [
  {
   "cell_type": "code",
   "execution_count": null,
   "metadata": {},
   "outputs": [],
   "source": [
    "import urllib\n",
    "import cv2\n",
    "import numpy as np\n",
    "import tensorflow as tf"
   ]
  },
  {
   "cell_type": "code",
   "execution_count": null,
   "metadata": {},
   "outputs": [],
   "source": [
    "model = tf.keras.models.load_model('./models/version5/')\n",
    "categories = ['dry', 'wet']"
   ]
  },
  {
   "cell_type": "code",
   "execution_count": null,
   "metadata": {},
   "outputs": [],
   "source": [
    "# URL for ip camera, try with public or password url\n",
    "url = 'http://37.182.240.202:82/cgi-bin/faststream.jpg'\n",
    "url_1 = 'http://61.214.197.204:1024/-wvhttp-01-/GetOneShot?frame_count=1000000000'\n"
   ]
  },
  {
   "cell_type": "code",
   "execution_count": null,
   "metadata": {},
   "outputs": [],
   "source": [
    "cap = cv2.VideoCapture(url_1)\n",
    "\n",
    "cap.set(3, 300)\n",
    "cap.set(4, 300)\n",
    "\n",
    "while True:\n",
    "    success, image = cap.read()\n",
    "        \n",
    "    image_input = cv2.resize(image, (300,300))\n",
    "    image_arr = np.asarray(image_input)\n",
    "    predictions = model.predict(np.array([image_arr]))\n",
    "    \n",
    "    print(f'Floor is currently {categories[predictions.argmax()]}')\n",
    "\n",
    "    cv2.imshow(\"Webcam\", image)\n",
    "    \n",
    "    if cv2.waitKey(1) & 0xFF==ord('q'):\n",
    "        cap.release()\n",
    "        break\n",
    "\n",
    "\n",
    "cv2.destroyAllWindows()\n",
    "cv2.waitKey(1)"
   ]
  },
  {
   "cell_type": "code",
   "execution_count": null,
   "metadata": {},
   "outputs": [],
   "source": []
  }
 ],
 "metadata": {
  "kernelspec": {
   "display_name": "Python 3.9.12 64-bit",
   "language": "python",
   "name": "python3"
  },
  "language_info": {
   "codemirror_mode": {
    "name": "ipython",
    "version": 3
   },
   "file_extension": ".py",
   "mimetype": "text/x-python",
   "name": "python",
   "nbconvert_exporter": "python",
   "pygments_lexer": "ipython3",
   "version": "3.9.12"
  },
  "orig_nbformat": 4,
  "vscode": {
   "interpreter": {
    "hash": "a665b5d41d17b532ea9890333293a1b812fa0b73c9c25c950b3cedf1bebd0438"
   }
  }
 },
 "nbformat": 4,
 "nbformat_minor": 2
}
