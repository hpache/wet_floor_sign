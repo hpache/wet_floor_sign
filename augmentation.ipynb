{
 "cells": [
  {
   "cell_type": "markdown",
   "metadata": {},
   "source": [
    "Henry Pacheco Cachon\n",
    "\n",
    "26 September 2022\n",
    "\n",
    "This notebook is inteded to resize all images and augment them to prepare them for model training. \n",
    "\n",
    "Image sizes [100x100]\n",
    "Augmented number: 800 per category (1600 in total)\n",
    "\n",
    "30 September 2022\n",
    "\n",
    "Increasing parameter space to [200x200]"
   ]
  },
  {
   "cell_type": "code",
   "execution_count": 4,
   "metadata": {},
   "outputs": [],
   "source": [
    "import Augmentor\n",
    "from PIL import Image, ImageOps\n",
    "from os import listdir\n",
    "from os.path import isfile, join"
   ]
  },
  {
   "cell_type": "markdown",
   "metadata": {},
   "source": [
    "# Constant sizing\n",
    "\n",
    "I want a 100x100 input for images"
   ]
  },
  {
   "cell_type": "code",
   "execution_count": 5,
   "metadata": {},
   "outputs": [],
   "source": [
    "def resize(size, directory_path):\n",
    "\n",
    "    files = [directory_path + f for f in listdir(directory_path) if isfile(join(directory_path,f)) if f != '.DS_Store']\n",
    "\n",
    "    for file in files:\n",
    "        image = Image.open(file).convert('RGB')\n",
    "        image.thumbnail(size, Image.ANTIALIAS)\n",
    "        image = ImageOps.pad(image, (size))\n",
    "        if (file.split('.')[2] == 'webp'):\n",
    "            file = file.replace('.webp', '-al.jpeg')\n",
    "        else:\n",
    "            file = file.replace('.jpeg', '-al.jpeg')\n",
    "        image.save(file, 'JPEG')\n",
    "        image.close()"
   ]
  },
  {
   "cell_type": "code",
   "execution_count": 6,
   "metadata": {},
   "outputs": [],
   "source": [
    "resize((200,200), './dataset/wet/')\n",
    "resize((200,200), './dataset/dry/')"
   ]
  },
  {
   "cell_type": "markdown",
   "metadata": {},
   "source": [
    "# Augment data to increase dataset size\n",
    "\n",
    "I want to increase the number of images by augmenting them"
   ]
  },
  {
   "cell_type": "code",
   "execution_count": 7,
   "metadata": {},
   "outputs": [],
   "source": [
    "# Directories\n",
    "dry_directory = './dataset/dry/'\n",
    "wet_directory = './dataset/wet/'"
   ]
  },
  {
   "cell_type": "code",
   "execution_count": 8,
   "metadata": {},
   "outputs": [],
   "source": [
    "def augment_data(directory, num_samples):\n",
    "    p = Augmentor.Pipeline(directory)\n",
    "    p.flip_left_right(0.5)\n",
    "    p.black_and_white(0.1)\n",
    "    p.rotate(0.3, 10, 10)\n",
    "    p.skew(0.4, 0.5)\n",
    "    p.zoom(probability = 0.2, min_factor = 1.1, max_factor = 1.5)\n",
    "    p.sample(num_samples)"
   ]
  },
  {
   "cell_type": "code",
   "execution_count": 9,
   "metadata": {},
   "outputs": [
    {
     "name": "stdout",
     "output_type": "stream",
     "text": [
      "Initialised with 18 image(s) found.\n",
      "Output directory set to ./dataset/dry/output."
     ]
    },
    {
     "name": "stderr",
     "output_type": "stream",
     "text": [
      "Processing <PIL.Image.Image image mode=RGB size=200x200 at 0x12002D5B0>: 100%|██████████| 800/800 [00:08<00:00, 92.71 Samples/s]                     \n"
     ]
    },
    {
     "name": "stdout",
     "output_type": "stream",
     "text": [
      "Initialised with 27 image(s) found.\n",
      "Output directory set to ./dataset/wet/output."
     ]
    },
    {
     "name": "stderr",
     "output_type": "stream",
     "text": [
      "Processing <PIL.Image.Image image mode=RGB size=200x200 at 0x11774E430>: 100%|██████████| 800/800 [00:02<00:00, 329.40 Samples/s]                    \n"
     ]
    }
   ],
   "source": [
    "augment_data(dry_directory, 800)\n",
    "augment_data(wet_directory, 800)"
   ]
  },
  {
   "cell_type": "code",
   "execution_count": null,
   "metadata": {},
   "outputs": [],
   "source": []
  }
 ],
 "metadata": {
  "kernelspec": {
   "display_name": "Python 3.9.12 64-bit",
   "language": "python",
   "name": "python3"
  },
  "language_info": {
   "codemirror_mode": {
    "name": "ipython",
    "version": 3
   },
   "file_extension": ".py",
   "mimetype": "text/x-python",
   "name": "python",
   "nbconvert_exporter": "python",
   "pygments_lexer": "ipython3",
   "version": "3.9.12"
  },
  "orig_nbformat": 4,
  "vscode": {
   "interpreter": {
    "hash": "b0fa6594d8f4cbf19f97940f81e996739fb7646882a419484c72d19e05852a7e"
   }
  }
 },
 "nbformat": 4,
 "nbformat_minor": 2
}
