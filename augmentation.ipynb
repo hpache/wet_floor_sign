{
 "cells": [
  {
   "cell_type": "markdown",
   "metadata": {},
   "source": [
    "Henry Pacheco Cachon\n",
    "\n",
    "26 September 2022\n",
    "\n",
    "This notebook is inteded to resize all images and augment them to prepare them for model training. \n",
    "\n",
    "Image sizes [100x100]\n",
    "Augmented number: 800 per category (1600 in total)\n",
    "\n",
    "30 September 2022\n",
    "\n",
    "Increasing parameter space to [200x200]"
   ]
  },
  {
   "cell_type": "code",
   "execution_count": 1,
   "metadata": {},
   "outputs": [],
   "source": [
    "import Augmentor\n",
    "from PIL import Image, ImageOps\n",
    "from os import listdir\n",
    "from os.path import isfile, join"
   ]
  },
  {
   "cell_type": "markdown",
   "metadata": {},
   "source": [
    "# Constant sizing\n",
    "\n",
    "I want a 200x200 input for images"
   ]
  },
  {
   "cell_type": "code",
   "execution_count": 22,
   "metadata": {},
   "outputs": [],
   "source": [
    "def resize(size, directory_path):\n",
    "\n",
    "    files = [directory_path + f for f in listdir(directory_path) if isfile(join(directory_path,f)) if f != '.DS_Store']\n",
    "\n",
    "    for file in files:\n",
    "        image = Image.open(file).convert('RGB')\n",
    "        image.thumbnail(size, Image.ANTIALIAS)\n",
    "        image = ImageOps.pad(image, (size))\n",
    "        if (file.split('.')[2] != '.jpeg'):\n",
    "            file = file.replace(f'.{file.split(\".\")[2]}', '-al.jpeg')\n",
    "        else:\n",
    "            file = file.replace('.jpeg', '-al.jpeg')\n",
    "        file = directory_path + \"al/\" + file.split('/')[-1]\n",
    "        image.save(file, 'JPEG')\n",
    "        image.close()"
   ]
  },
  {
   "cell_type": "code",
   "execution_count": 25,
   "metadata": {},
   "outputs": [],
   "source": [
    "# resize((200,200), './dataset/wet/')\n",
    "resize((200,200), './dataset/dry/')"
   ]
  },
  {
   "cell_type": "markdown",
   "metadata": {},
   "source": [
    "# Augment data to increase dataset size\n",
    "\n",
    "I want to increase the number of images by augmenting them"
   ]
  },
  {
   "cell_type": "code",
   "execution_count": 2,
   "metadata": {},
   "outputs": [],
   "source": [
    "# Directories\n",
    "dry_directory = './dataset/dry/al'\n",
    "wet_directory = './dataset/wet/al'"
   ]
  },
  {
   "cell_type": "code",
   "execution_count": 3,
   "metadata": {},
   "outputs": [],
   "source": [
    "def augment_data(directory, num_samples):\n",
    "    p = Augmentor.Pipeline(directory)\n",
    "    p.flip_left_right(0.5)\n",
    "    p.black_and_white(0.1)\n",
    "    p.rotate(0.3, 10, 10)\n",
    "    p.skew(0.4, 0.5)\n",
    "    p.zoom(probability = 0.2, min_factor = 1.1, max_factor = 1.5)\n",
    "    p.sample(num_samples)"
   ]
  },
  {
   "cell_type": "code",
   "execution_count": 6,
   "metadata": {},
   "outputs": [
    {
     "name": "stdout",
     "output_type": "stream",
     "text": [
      "Initialised with 71 image(s) found.\n",
      "Output directory set to ./dataset/dry/al/output."
     ]
    },
    {
     "name": "stderr",
     "output_type": "stream",
     "text": [
      "Processing <PIL.Image.Image image mode=RGB size=200x200 at 0x10CF3C430>:  78%|███████▊  | 3894/5000 [00:06<00:00, 1872.35 Samples/s]                  IOPub message rate exceeded.\n",
      "The notebook server will temporarily stop sending output\n",
      "to the client in order to avoid crashing it.\n",
      "To change this limit, set the config variable\n",
      "`--NotebookApp.iopub_msg_rate_limit`.\n",
      "\n",
      "Current values:\n",
      "NotebookApp.iopub_msg_rate_limit=1000.0 (msgs/sec)\n",
      "NotebookApp.rate_limit_window=3.0 (secs)\n",
      "\n",
      "Processing <PIL.Image.Image image mode=RGB size=200x200 at 0x10CEF0E50>:  80%|███████▉  | 3976/5000 [00:06<00:00, 1521.25 Samples/s]                  IOPub message rate exceeded.\n",
      "The notebook server will temporarily stop sending output\n",
      "to the client in order to avoid crashing it.\n",
      "To change this limit, set the config variable\n",
      "`--NotebookApp.iopub_msg_rate_limit`.\n",
      "\n",
      "Current values:\n",
      "NotebookApp.iopub_msg_rate_limit=1000.0 (msgs/sec)\n",
      "NotebookApp.rate_limit_window=3.0 (secs)\n",
      "\n"
     ]
    }
   ],
   "source": [
    "augment_data(dry_directory, 5000)\n",
    "augment_data(wet_directory, 5000)"
   ]
  },
  {
   "cell_type": "code",
   "execution_count": null,
   "metadata": {},
   "outputs": [],
   "source": []
  }
 ],
 "metadata": {
  "kernelspec": {
   "display_name": "Python 3.9.12 64-bit",
   "language": "python",
   "name": "python3"
  },
  "language_info": {
   "codemirror_mode": {
    "name": "ipython",
    "version": 3
   },
   "file_extension": ".py",
   "mimetype": "text/x-python",
   "name": "python",
   "nbconvert_exporter": "python",
   "pygments_lexer": "ipython3",
   "version": "3.9.12"
  },
  "orig_nbformat": 4,
  "vscode": {
   "interpreter": {
    "hash": "a665b5d41d17b532ea9890333293a1b812fa0b73c9c25c950b3cedf1bebd0438"
   }
  }
 },
 "nbformat": 4,
 "nbformat_minor": 2
}
