{
 "cells": [
  {
   "cell_type": "code",
   "execution_count": 2,
   "metadata": {},
   "outputs": [],
   "source": [
    "import Augmentor\n",
    "from PIL import Image, ImageOps\n",
    "from os import listdir\n",
    "from os.path import isfile, join"
   ]
  },
  {
   "cell_type": "markdown",
   "metadata": {},
   "source": [
    "# Constant sizing\n",
    "\n",
    "I want a 100x100 input for images"
   ]
  },
  {
   "cell_type": "code",
   "execution_count": 11,
   "metadata": {},
   "outputs": [],
   "source": [
    "def resize(size, directory_path):\n",
    "\n",
    "    files = [directory_path + f for f in listdir(directory_path) if isfile(join(directory_path,f)) if f != '.DS_Store']\n",
    "\n",
    "    for file in files:\n",
    "        image = Image.open(file).convert('RGB')\n",
    "        image.thumbnail(size, Image.ANTIALIAS)\n",
    "        image = ImageOps.pad(image, (size))\n",
    "        if (file.split('.')[2] == 'webp'):\n",
    "            file = file.replace('.webp', '-al.jpeg')\n",
    "        else:\n",
    "            file = file.replace('.jpeg', '-al.jpeg')\n",
    "        image.save(file, 'JPEG')\n",
    "        image.close()"
   ]
  },
  {
   "cell_type": "code",
   "execution_count": 13,
   "metadata": {},
   "outputs": [],
   "source": [
    "resize((100,100), './dataset/wet/')"
   ]
  },
  {
   "cell_type": "markdown",
   "metadata": {},
   "source": [
    "# Augment data to increase dataset size\n",
    "\n",
    "I want to increase the number of images by augmenting them"
   ]
  },
  {
   "cell_type": "code",
   "execution_count": 2,
   "metadata": {},
   "outputs": [],
   "source": [
    "# Directories\n",
    "dry_directory = './dataset/dry/'\n",
    "wet_directory = './dataset/wet/'"
   ]
  },
  {
   "cell_type": "code",
   "execution_count": 37,
   "metadata": {},
   "outputs": [],
   "source": [
    "def augment_data(directory, num_samples):\n",
    "    p = Augmentor.Pipeline(directory)\n",
    "    p.flip_left_right(0.5)\n",
    "    p.black_and_white(0.1)\n",
    "    p.rotate(0.3, 10, 10)\n",
    "    p.skew(0.4, 0.5)\n",
    "    p.zoom(probability = 0.2, min_factor = 1.1, max_factor = 1.5)\n",
    "    p.sample(num_samples)"
   ]
  },
  {
   "cell_type": "code",
   "execution_count": 38,
   "metadata": {},
   "outputs": [
    {
     "name": "stdout",
     "output_type": "stream",
     "text": [
      "Initialised with 10 image(s) found.\n",
      "Output directory set to ./dataset/dry/output."
     ]
    },
    {
     "name": "stderr",
     "output_type": "stream",
     "text": [
      "Processing <PIL.Image.Image image mode=RGB size=100x59 at 0x113F490A0>: 100%|██████████| 800/800 [00:00<00:00, 1127.13 Samples/s]                   \n"
     ]
    },
    {
     "name": "stdout",
     "output_type": "stream",
     "text": [
      "Initialised with 16 image(s) found.\n",
      "Output directory set to ./dataset/wet/output."
     ]
    },
    {
     "name": "stderr",
     "output_type": "stream",
     "text": [
      "Processing <PIL.Image.Image image mode=RGB size=100x67 at 0x113C63A30>: 100%|██████████| 800/800 [00:00<00:00, 883.69 Samples/s]                   \n"
     ]
    }
   ],
   "source": [
    "augment_data(dry_directory, 800)\n",
    "augment_data(wet_directory, 800)"
   ]
  },
  {
   "cell_type": "code",
   "execution_count": null,
   "metadata": {},
   "outputs": [],
   "source": []
  }
 ],
 "metadata": {
  "kernelspec": {
   "display_name": "Python 3.9.12 64-bit",
   "language": "python",
   "name": "python3"
  },
  "language_info": {
   "codemirror_mode": {
    "name": "ipython",
    "version": 3
   },
   "file_extension": ".py",
   "mimetype": "text/x-python",
   "name": "python",
   "nbconvert_exporter": "python",
   "pygments_lexer": "ipython3",
   "version": "3.9.12"
  },
  "orig_nbformat": 4,
  "vscode": {
   "interpreter": {
    "hash": "b0fa6594d8f4cbf19f97940f81e996739fb7646882a419484c72d19e05852a7e"
   }
  }
 },
 "nbformat": 4,
 "nbformat_minor": 2
}
